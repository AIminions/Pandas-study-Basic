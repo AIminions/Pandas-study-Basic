{
 "cells": [
  {
   "cell_type": "markdown",
   "metadata": {},
   "source": [
    "# Pandas"
   ]
  },
  {
   "cell_type": "code",
   "execution_count": 22,
   "metadata": {},
   "outputs": [
    {
     "data": {
      "text/html": [
       "<div>\n",
       "<style scoped>\n",
       "    .dataframe tbody tr th:only-of-type {\n",
       "        vertical-align: middle;\n",
       "    }\n",
       "\n",
       "    .dataframe tbody tr th {\n",
       "        vertical-align: top;\n",
       "    }\n",
       "\n",
       "    .dataframe thead th {\n",
       "        text-align: right;\n",
       "    }\n",
       "</style>\n",
       "<table border=\"1\" class=\"dataframe\">\n",
       "  <thead>\n",
       "    <tr style=\"text-align: right;\">\n",
       "      <th></th>\n",
       "      <th>D</th>\n",
       "      <th>f</th>\n",
       "    </tr>\n",
       "  </thead>\n",
       "  <tbody>\n",
       "    <tr>\n",
       "      <th>0</th>\n",
       "      <td>1</td>\n",
       "      <td>1</td>\n",
       "    </tr>\n",
       "    <tr>\n",
       "      <th>2</th>\n",
       "      <td>3</td>\n",
       "      <td>3</td>\n",
       "    </tr>\n",
       "  </tbody>\n",
       "</table>\n",
       "</div>"
      ],
      "text/plain": [
       "   D  f\n",
       "0  1  1\n",
       "2  3  3"
      ]
     },
     "execution_count": 22,
     "metadata": {},
     "output_type": "execute_result"
    }
   ],
   "source": [
    "import pandas as pd\n",
    "\n",
    "DF = pd.read_csv('파일주소 ex)C:Desktop/file.csv ')\n",
    "\n",
    "DF = pd.DataFrame({'D':[1,2,3,4], 'e':[1,2,3,5], 'f':[1,2,3,4]}) #DF는 Dataframe의 이름 DF라는 변수에 데이터프레임을 대입\n",
    "\n",
    "DF\n",
    "\n",
    "# 1차원은 시리즈\n",
    "# 2차원은 테이블\n",
    "# [ ] = 는 항상 테이블이블"
   ]
  },
  {
   "cell_type": "markdown",
   "metadata": {},
   "source": [
    "## 명령어"
   ]
  },
  {
   "cell_type": "markdown",
   "metadata": {},
   "source": [
    "### 추출"
   ]
  },
  {
   "cell_type": "code",
   "execution_count": null,
   "metadata": {},
   "outputs": [],
   "source": [
    "axis = 1 #세로 선택\n",
    "axis = 0 #가로 선택\n",
    "# ex) ('컬럼', axis=0)\n",
    "\n",
    ".head(3) # 앞에서 3개 가져옴\n",
    ".tail(2) # 뒤에서 2개\n",
    ".nlargest(보여줄 행 개수,'컬럼') # 가장 큰 값\n",
    ".shape[0] # 프레임 모양 확인, 0 = 행수확인 , 1 = 열수확인\n",
    ".index # 인덱스 확인\n",
    ".info() # 데이터 프레임의 정보확인\n",
    ".sample() # 샘플 보여줌 괄호는 보여줄 개수\n",
    ".dtypes #데이터 타입\n",
    ".isnull() # 결측치 확인 True or False 로 나타냄. .notnull() 로는 True로 표시됨\n",
    ".value_counts() # 각 값의 개수를 카운트 함.\n",
    ".unique() # 중복을 제거한 값\n",
    ".describe() # 요약 통계량\n",
    ".mean() #평균값\n",
    ".isin(['컬럼']) #데이터 프레임에 컬럼이 들어있으면 True로 나타냄 아니면 False\n",
    ".loc[테이블명['컬럼명']] # 행과 열을 불러옴 (레이블을 사용할때)\n",
    ".iloc[0:3,0:2] # 행과 열을 불러옴 (인덱싱을 사용할 때) iloc[행,열] 정수에서는 미만이지만 문자에서는 이상이다.\n",
    "\n",
    "DF[['컬럼1','컬럼2','컬럼3']] # 특정 열만 불러옴\n",
    "DF[0:3] # 슬라이싱으로 행을 불러옴\n",
    "DF[(DF['나이'] > Boolean) Boolean (DF['나이'] < Boolean)] # 조건에 맞는 행을 찾음\n",
    "\n"
   ]
  },
  {
   "cell_type": "markdown",
   "metadata": {},
   "source": [
    "### 정렬"
   ]
  },
  {
   "cell_type": "code",
   "execution_count": null,
   "metadata": {},
   "outputs": [],
   "source": [
    ".sort_values(by='컬럼', ascending=False) # 내림차순 정렬\n",
    ".sort_values('컬럼럼') # 오름차순 정렬\n",
    ".tolist() # 리스트화"
   ]
  },
  {
   "cell_type": "markdown",
   "metadata": {},
   "source": [
    "### 변환"
   ]
  },
  {
   "cell_type": "code",
   "execution_count": 23,
   "metadata": {},
   "outputs": [
    {
     "ename": "SyntaxError",
     "evalue": "invalid syntax (4166681009.py, line 3)",
     "output_type": "error",
     "traceback": [
      "\u001b[1;36m  Cell \u001b[1;32mIn[23], line 3\u001b[1;36m\u001b[0m\n\u001b[1;33m    .drop(index=[0]) # 열 삭제\u001b[0m\n\u001b[1;37m    ^\u001b[0m\n\u001b[1;31mSyntaxError\u001b[0m\u001b[1;31m:\u001b[0m invalid syntax\n"
     ]
    }
   ],
   "source": [
    "#  변수에 저장안하면 원본에는 적용 안됨 \n",
    "(,inplace=True) # 원본에 적용\n",
    "\n",
    ".sum() # 총합\n",
    ".drop(index=[0]) # 열 삭제\n",
    ".drop(columns=['컬럼명']) # 행 삭제\n",
    ".dropna(axis=1) # 결측치 제거 \n",
    ".fillna(0) # 결측치 0으로 채우기\n",
    ".fillna(method='ffill') # 결측치 앞의 값으로 채우기\n",
    ".fillna(method='bfill') # 결측치 뒤의 값으로 채우기\n",
    ".replace(['기존값1','바꿀값1'],['기존값2','바꿀값2']) # 값 바꾸기 하나만 바꿀경우 [] 없엠.\n",
    ".columns = ['바꿀값1,바꿀값2,바꿀값3,바꿀값4'] # 열 이름 변경\n",
    ".rename(columns={'성명':'이름','신장':'키'}) # 열 이름 변경  인플추가하면 아예 값 변경 \n",
    ".index = ['바꿀값1,바꿀값2,바꿀값3,바꿀값4'] # 인덱스 변경, 인덱스 개수가 같아야함 \n",
    ".apply(lambda n:n * 0.001) # DataFrame의 칼럼에 복잡한 연산을 vectorizing으로 람다연산 적용가능\n",
    ".diff() # ex) 5컬럼부터 0컬럼까지 차이값을 차례대로 냄. \n",
    "#               5-4 4-3 3-2 2-1 1-0(NaN)으로 나타냄\n",
    ".groupby('그루핑할 컬럼')['그룹지을 컬럼'] # 그룹화\n",
    ".iterrows() # (index,series) 쌍으로 순회할수있게 해주는 이터레이터를 반환 데이터프레임 행별처리 용이\n",
    "# for index, row in DF.iterrows():\n",
    "#     print(index, row)\n",
    "#     print() \n",
    ".at[행라벨,열라벨] # 데이터프레임에서 행과 열을 지정한 특정 셀은 at 을 사용하여 조회하고 변경\n",
    "\n",
    "#pd.\n",
    "pd.concat([테이블, 매핑할 테이블]) # 병합\n",
    "pd.merge((데이터프레임), 데이터프레임 or 시리즈명, on='기준이 되는 컬럼명(키값)') # 병합함\n",
    "pd.DataFrame() # 비어있는 데이타프레임을 만듦\n",
    "pd.to_datetime(숫자,format = '%Y%m%d') # 날짜데이터로 바꿈 숫자칸에는 2020*10000 + dd.month*100 + dd.day*1 이런식으로 넣으면됨\n",
    "pd.isnull(data) # 추출한 행의 백분율 percentage 값이 아무것도 없이 비어 있는 누락값인지 확인\n",
    "pd.options.display.float_format = '{:.0f}'.format\n",
    "\n",
    "\n",
    "DF['컬럼'].fillna(DF['컬럼'].mean()) # 결측치 평균값으로 채우기\n",
    "DF['컬럼'] = [90,100,46,79,89,78,65]  # 새로운 열 추가\n",
    "DF['컬럼'] + 10 # 기존 열에 연산\n",
    "DF2 = DF.copy() # 복사본 만들기\n"
   ]
  }
 ],
 "metadata": {
  "kernelspec": {
   "display_name": "Python 3",
   "language": "python",
   "name": "python3"
  },
  "language_info": {
   "codemirror_mode": {
    "name": "ipython",
    "version": 3
   },
   "file_extension": ".py",
   "mimetype": "text/x-python",
   "name": "python",
   "nbconvert_exporter": "python",
   "pygments_lexer": "ipython3",
   "version": "3.9.13"
  }
 },
 "nbformat": 4,
 "nbformat_minor": 2
}
