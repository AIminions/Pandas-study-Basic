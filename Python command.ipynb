{
 "cells": [
  {
   "cell_type": "markdown",
   "metadata": {},
   "source": [
    "# 파이썬 기본 문법"
   ]
  },
  {
   "cell_type": "markdown",
   "metadata": {},
   "source": [
    "##### Sep , end"
   ]
  },
  {
   "cell_type": "code",
   "execution_count": 1,
   "metadata": {},
   "outputs": [
    {
     "name": "stdout",
     "output_type": "stream",
     "text": [
      "hi*python\n",
      "hipython\n",
      "hi hiHello\n",
      "python\n"
     ]
    }
   ],
   "source": [
    "print('hi','python', sep='*') # sep='' 요소와 요소 사이에 문자를 넣음\n",
    "print('hi','python', sep='') # 문자가 없으면 붙여씀 ex) hipython\n",
    "print('hi','hi', end='') # end='' 다음 출력물을 한줄로 붙여 쓴다는 뜻.\n",
    "print('Hello'); print('python'); # ; 는 한 줄에 하나만 실행되는 걸 끊어서 실행 가능하게함"
   ]
  },
  {
   "cell_type": "markdown",
   "metadata": {},
   "source": [
    "# 제일 중요한 예제 암기"
   ]
  },
  {
   "cell_type": "code",
   "execution_count": null,
   "metadata": {},
   "outputs": [
    {
     "name": "stdout",
     "output_type": "stream",
     "text": [
      "Alice's average grade: 90.00\n",
      "Bob's average grade: 75.00\n",
      "Charlie's average grade: 65.00\n"
     ]
    }
   ],
   "source": [
    "d = [{'name':'Alice', 'grades': [85, 90, 95]},\n",
    "    {'name':'Bob', 'grades': [70, 75, 80]}, \n",
    "    {'name':'Charlie', 'grades': [60, 65, 70]}] \n",
    "\n",
    "for i in d:\n",
    "    name = i['name']  # 'name' 값을 가져옴\n",
    "    grades = i['grades']  # 'grades' 리스트를 가져옴\n",
    "    avg = sum(grades) / len(grades)  # 평균 계산\n",
    "    print(f\"{name}'s average grade: {avg:.2f}\")"
   ]
  },
  {
   "cell_type": "markdown",
   "metadata": {},
   "source": [
    "##### 파이썬 단축키"
   ]
  },
  {
   "cell_type": "code",
   "execution_count": 2,
   "metadata": {},
   "outputs": [],
   "source": [
    "# : 한 줄을 주석처리 합니다.\n",
    "\n",
    "# ctrl + /  : 여러줄을 #으로 주석처리 합니다.\n",
    "\n",
    "# (주석처리 할 부분을 선택한 후 ctrl + / 을 하면 여러줄이 #으로 주석처리 됩니다.\n",
    "\n",
    "# 그리고 해당 부분을 선택해서 다시 ctrl + /을 하면 주석이 해제됩니다.)\n",
    "\n",
    "# ''' ''' : 여러줄을 문자열화 시킵니다.\n",
    "\n",
    "# 코드나 함수 등 무언가를 설명해야 하는 부분에 주로 사용합니다.\n",
    "\n",
    "# \"\"\" \"\"\" : 위와 동일하게 여러줄을 문자열화 시킵니다. \n",
    "\n",
    "# tab : tab 간격만큼 코드를 안쪽으로 들입니다.\n",
    "\n",
    "# (여러줄을 선택하고 tab을 누르면 여러줄에 tab이 적용됩니다.)\n",
    "\n",
    "# shift + tab : tab 간격만큼 들여쓰기 된 코드를 다시 밖으로 뺍니다.\n",
    "\n",
    "# (shift + tab 같은 경우에는 반복문을 쓰다가 해당 반복문을 삭제하고 내부 코드 전체를 한꺼번에 밖으로 빼고 싶을 때 사용할 수 있습니다.)\n",
    "\n",
    "# ; : 세미콜론은 한 줄에서 여러개의 명령어를 사용하려 할 때 사용합니다. 보통 초기에 변수를 지정할 때 사용합니다.\n",
    "\n",
    "# \\ : 코드가 길어져서 화면 밖으로 나갈 정도로 길어진다면, 해당 코드를 두 줄에 걸쳐서 작성하는 것이 더 보기 좋을 것입니다. 코드를 작성하다 \\를 넣으면, 아랫줄로 한 칸 내려와서 그 뒷부분의 코드를 작성할 수 있습니다.\n",
    "\n",
    "# ctrl + c : 강제종료 (프로그램이 무한루프에 빠지면 종료할 수 있습니다.)"
   ]
  },
  {
   "cell_type": "markdown",
   "metadata": {},
   "source": [
    "##### 예외 처리"
   ]
  },
  {
   "cell_type": "code",
   "execution_count": 3,
   "metadata": {},
   "outputs": [],
   "source": [
    "# 1) KeyError\n",
    "# \"키 없음\"\n",
    "# 주로 딕셔너리 사용시 발생하는 에러\n",
    "# 없는 Key 값에 접근하려고 할 때 발생\n",
    "# 이럴 때 get() 메소드를 사용할 수 있다\n",
    "\n",
    "# 2) ValueError\n",
    "# ① 부적절한 값을 가진 인자를 받았을 때 발생하는 에러\n",
    "# int함수 안에는 int(\"10\")과 같이 숫자로 변경할 수 있는 문자열이 와야 하는데, 이렇게 숫자로 변경할 수 없는 문자열이 오는 것처럼 부적절한 인자가 올 때 발생\n",
    "\n",
    "# 2-1 ) IndexError\n",
    "# 없는 인덱스 값에 접근하려고 할 때 발생\n",
    "\n",
    "# 4) SyntaxError\n",
    "# 문법 오류\n",
    "# 이렇게 조건문에서 :을 빼먹거나 문법이 잘못될 때 발생\n",
    "\n",
    "# 5) NameError\n",
    "# 지역변수, 전역변수의 이름을 찾을 수 없는 경우 발생\n",
    "\n",
    "# 6) ZeroDivisionError\n",
    "# 숫자를 0으로 나누려는 경우 발생\n",
    "\n",
    "# 7) FileNotFoundError\n",
    "# 존재하지 않는 파일이나 디렉토리에 접근하려 할 때\n",
    "\n",
    "# 8) TypeError\n",
    "# 서로 다른 타입으로 연산하려고 할 때 발생\n",
    "\n",
    "# 9) AttributeError\n",
    "# 잘못된 메서드나 속성을 호출하거나 대입했을 때 발생\n",
    "\n",
    "# 10) ConnectionError\n",
    "# 서버를 켜지 않았을 때 발생\n",
    "# manage.py 가 있는 프로젝트 디렉토리로 이동하여 python manage.py runserver 실행\n",
    "# python manage.py runserver 0:8000 모든 컴퓨터에서 내 서버로 접속 가능\n",
    "\n"
   ]
  },
  {
   "cell_type": "markdown",
   "metadata": {},
   "source": [
    "# 주피터 노트북의 성질"
   ]
  },
  {
   "cell_type": "code",
   "execution_count": 4,
   "metadata": {},
   "outputs": [
    {
     "data": {
      "text/plain": [
       "7"
      ]
     },
     "execution_count": 4,
     "metadata": {},
     "output_type": "execute_result"
    }
   ],
   "source": [
    "1+2\n",
    "2+3\n",
    "3+4  # * 주피터 노트북은 마지막 값만 계산됨."
   ]
  },
  {
   "cell_type": "markdown",
   "metadata": {},
   "source": [
    "# 변수"
   ]
  },
  {
   "cell_type": "code",
   "execution_count": 5,
   "metadata": {},
   "outputs": [
    {
     "name": "stdout",
     "output_type": "stream",
     "text": [
      "30 30\n"
     ]
    }
   ],
   "source": [
    "# 숫자로 시작 , 공백, 키워드('break, continue') 안됨\n",
    "# _(언더바) 만 사용가능\n",
    "\n",
    "c, d = 30, 30  # 콤마 찍어서 여러개 사용가능\n",
    "print(c,d)"
   ]
  },
  {
   "cell_type": "markdown",
   "metadata": {},
   "source": [
    "## 형변환"
   ]
  },
  {
   "cell_type": "code",
   "execution_count": 6,
   "metadata": {},
   "outputs": [],
   "source": [
    "# str(5) = 문자열로변환\n",
    "# int(5) = 정수형으로변환\n",
    "# float(3.14) = 실수형으로 변환\n",
    "# bool(True) = 부울형으로 변환"
   ]
  },
  {
   "cell_type": "markdown",
   "metadata": {},
   "source": [
    "# 슬라이싱"
   ]
  },
  {
   "cell_type": "code",
   "execution_count": 7,
   "metadata": {},
   "outputs": [],
   "source": [
    "# 문자열(index)을 뽑아 내는 작업\n",
    "\n",
    "a = \"Life is good\"\n",
    "\n",
    "# [어디부터:어디까지지:방향(1,-1)]\n",
    "# [a:b]  여기서 a이상이고 b는 미만\n",
    "# [:]  전부 슬라이싱\n",
    "# b = a[::-1] 거꾸로 출력\n",
    "\n",
    "#   리스트 슬라이싱\n",
    "#리스트명[인덱스1:인덱스2]\n",
    "#리스트명[인덱스1:]\n",
    "#리스트명[:인덱스2]\n",
    "#리스트명[인:]\n",
    "#    값 변경\n",
    "#리스트명[인덱스] = 값\n",
    "\n"
   ]
  },
  {
   "cell_type": "markdown",
   "metadata": {},
   "source": [
    "# 입출력"
   ]
  },
  {
   "cell_type": "code",
   "execution_count": 8,
   "metadata": {},
   "outputs": [
    {
     "name": "stdout",
     "output_type": "stream",
     "text": [
      "\n"
     ]
    }
   ],
   "source": [
    "input() # 입력\n",
    "print() # 출력\n",
    "# \\n 새로운 줄 \n",
    "# \\t 탭\n",
    "# \\' 작은따옴표 문자\n",
    "# \\\" 큰따옴표문자\n",
    "# \\\\ \\백슬래시 출력\n",
    "# 출력의 다양한 예)\n",
    "# print(\"3 // 2 \", 3//2 , 3 * 2) = 3 // 2  1 6\n"
   ]
  },
  {
   "cell_type": "markdown",
   "metadata": {},
   "source": [
    "## 서식지정자"
   ]
  },
  {
   "cell_type": "code",
   "execution_count": 9,
   "metadata": {},
   "outputs": [
    {
     "data": {
      "text/plain": [
       "'278.000000'"
      ]
     },
     "execution_count": 9,
     "metadata": {},
     "output_type": "execute_result"
    }
   ],
   "source": [
    "# 기본적인 형태 '%자료형'%(값)\n",
    "'%f'%(278)\n",
    "\n",
    "#   f string의 경우             a , b는 변수\n",
    "# f'{값:서식지정자}'  ex)print(f'{a:.2f} * {b:.3f} = {a*b: ,.2f}')\n",
    "                        #   소숫점 둘째자리    셋째자리    ,표시는 끊어서 표시 (2,000,000)\n",
    "# %d 정수\n",
    "# %f 실수 ex) %5.1f 에서 1은 소숫점 몇 번째 까지 쓸껀지\n",
    "# %s 문자열\n",
    "# %c 문자\n",
    "# %x 16진수\n",
    "# %o 8진수\n",
    "# %e 지수"
   ]
  },
  {
   "cell_type": "markdown",
   "metadata": {},
   "source": [
    "## split 메소드"
   ]
  },
  {
   "cell_type": "code",
   "execution_count": 10,
   "metadata": {},
   "outputs": [],
   "source": [
    "\n",
    "# a, b, c = input().split()  정수 3개를 한번에 입력받아 합계를 인쇄함.\n",
    "# s = int(a) + int(b) + int(c) \n",
    "\n",
    "# print(s)"
   ]
  },
  {
   "cell_type": "markdown",
   "metadata": {},
   "source": [
    "# 반복문"
   ]
  },
  {
   "cell_type": "code",
   "execution_count": 11,
   "metadata": {},
   "outputs": [],
   "source": [
    "# while 반복 : 조건 충족 , 지칠 때 까지 반복\n",
    "# ex) while 조건식:\n",
    "#       명령어어\n",
    "# for 횟수 반복 : 반복 횟수 필요 , n번 반복\n",
    "# ex) for 조건식:\n",
    "#       명령어:       \n",
    "# while True: #True에서 T는 대문자 주의.\n",
    "\n",
    "#무한 반복.\n",
    "\n",
    "#ex) i = 0    < i 값을 몇부터 시작할지 지정가능능\n",
    "#    while i <= 5:\n",
    "#     (들여쓰기)"
   ]
  },
  {
   "cell_type": "markdown",
   "metadata": {},
   "source": [
    "## 조건문"
   ]
  },
  {
   "cell_type": "markdown",
   "metadata": {},
   "source": [
    "### if의 성질"
   ]
  },
  {
   "cell_type": "code",
   "execution_count": 12,
   "metadata": {},
   "outputs": [
    {
     "name": "stdout",
     "output_type": "stream",
     "text": [
      "false\n"
     ]
    }
   ],
   "source": [
    "if \"\":            # 스트링 안에 채워져있으면 true 비어있으면 ('') false\n",
    "    print(\"true\")\n",
    "else:\n",
    "    print(\"false\")"
   ]
  },
  {
   "cell_type": "markdown",
   "metadata": {},
   "source": [
    "### 비교연산자"
   ]
  },
  {
   "cell_type": "code",
   "execution_count": 13,
   "metadata": {},
   "outputs": [
    {
     "data": {
      "text/plain": [
       "True"
      ]
     },
     "execution_count": 13,
     "metadata": {},
     "output_type": "execute_result"
    }
   ],
   "source": [
    "# 비교연산자 기호\n",
    "5 * 2 \n",
    "5 / 2 # 나누기\n",
    "5 // 2 # 나누기, 소숫점 제외\n",
    "5 % 2 # 나머지\n",
    "5 >= 2\n",
    "5 <= 2\n",
    "5 == 0\n",
    "5 != 0\n",
    "\n",
    "# 참고) 문자열에도 비교 연산자 적용 가능, 이때 한글은 사전 순서(가나다순)으로 앞에 있는 것이 작은 값을 가짐\n",
    "# ex) 가방 > 나비  >>> False"
   ]
  },
  {
   "cell_type": "markdown",
   "metadata": {},
   "source": [
    "#### 부울 함수"
   ]
  },
  {
   "cell_type": "code",
   "execution_count": 14,
   "metadata": {},
   "outputs": [
    {
     "data": {
      "text/plain": [
       "(False, True, True, True, False, True)"
      ]
     },
     "execution_count": 14,
     "metadata": {},
     "output_type": "execute_result"
    }
   ],
   "source": [
    "bool(0) , bool(1) , bool(2) , bool('hello') , bool('') , bool(' ')\n",
    "# Flase, 0, 빈문자열 ''은 False이고 그 이외에는 전부 True이다."
   ]
  },
  {
   "cell_type": "markdown",
   "metadata": {},
   "source": [
    "##### 부울 함수 사용 예)"
   ]
  },
  {
   "cell_type": "code",
   "execution_count": 15,
   "metadata": {},
   "outputs": [],
   "source": [
    "# ex) 사용자가 아무것도 입력하지 않았다면 : \"> 입력해주세요: \" = 변수.strip()  *여기서 strip은 입력값값 양 옆 공백을 짜르는 함수\n",
    "#                                            위 두 문장은 같은 문장이다.\n",
    "#i = input (\" 입력하세요 \")\n",
    "#i = i.strip()\n",
    "#\n",
    "# if i == \"\":                                 if i != \"\":                   ==(같다)를 != 로 바꾸거나 not을 써서 if not(i == \"\")로 바꿔도됨                     if i: << 아예 i를 넣어서 빈 문자열만 조건잡는 경우도 있음\n",
    "#   # 프로그램의 보완적인 기능                      # 프로그램의 주요 기능             첫 번째 코드는 주요 기능이 else(밑쪽)에 있기때문에 좋아보이지 않음.              \n",
    "#   print(\"프로그램을 다시 실행하세요\")    >>>      print(\"입력한 내용:\", i)          따라서 이런식으로 구문을 서로 뒤바꿔서 주요 기능을 if에 두게 할 수 있음\n",
    "#else:                                        else:\n",
    "#   # 프로그램의 주요 기능                          # 프로그램의 보완적인 기능\n",
    "#   print(\"입력한 내용:\", i)                       print(\"프로그램을 다시 실행하세요\")\n",
    "\n",
    "# # 최근의 방식\n",
    "# if i == \"\":\n",
    "#     print(\"프로그램 다시실행하세요\")\n",
    "#     exit()  << 이런식으로 그냥 종료 시켜버리는 방식을 쓰기도 함. if에 들어갔기 때문에 이후 조건문은 실행 되지 않음\n",
    "# print(\" 입력한 내용:\", i)"
   ]
  },
  {
   "cell_type": "markdown",
   "metadata": {},
   "source": [
    "### 여러가지 복합구분 (Suite)"
   ]
  },
  {
   "cell_type": "markdown",
   "metadata": {},
   "source": [
    "#### break"
   ]
  },
  {
   "cell_type": "code",
   "execution_count": 16,
   "metadata": {},
   "outputs": [],
   "source": [
    "# 특정 조건을 만족하면 반복문,블럭을 빠져나옴"
   ]
  },
  {
   "cell_type": "markdown",
   "metadata": {},
   "source": [
    "#### continue"
   ]
  },
  {
   "cell_type": "code",
   "execution_count": 17,
   "metadata": {},
   "outputs": [],
   "source": [
    "# 조건을 확인해서 맞는경우 가장 가까이있는 반복문으로로 돌아가고\n",
    "#                                아닌경우 밑으로 넘어감\n",
    "# 검사기 라고 생각하면됨."
   ]
  },
  {
   "cell_type": "markdown",
   "metadata": {},
   "source": [
    "#### pass , raise NotImplementedError"
   ]
  },
  {
   "cell_type": "code",
   "execution_count": 18,
   "metadata": {},
   "outputs": [],
   "source": [
    "# 아직 구현이 안됐다는 걸 표현하기 위해 만듬"
   ]
  },
  {
   "cell_type": "markdown",
   "metadata": {},
   "source": [
    "## for 문"
   ]
  },
  {
   "cell_type": "code",
   "execution_count": 19,
   "metadata": {},
   "outputs": [],
   "source": [
    "# for 변수 in 이터러블(iterable, 반복가능한 개체):\n",
    "#(들여쓰기)반복할 문장\n",
    "\n",
    "# ex) for i in 'hello' <  hello는 인덱스 5개이므로 5라는 정수도 되며 h,e,l,l,o 가 i에 들어감\n",
    "   #  여기서 in은 hello라는 요소가 존재하기때문에 True로 인식돼서 True로 있는동안 반복되는것임.\n",
    "# for 변수 in 시퀀스 \n",
    "# for 변수 in range(정수)\n",
    "\n",
    " "
   ]
  },
  {
   "cell_type": "markdown",
   "metadata": {},
   "source": [
    "#### range() 함수"
   ]
  },
  {
   "cell_type": "code",
   "execution_count": 20,
   "metadata": {},
   "outputs": [],
   "source": [
    "# range(몇부터,몇까지(-1),몇칸씩) [0,8,2] > [0, 2, 4, 6]       < 리스트를 만드는 함수 >\n",
    "# # ex) range(6,0,-1) [6,5,4,3,2,1]\n",
    "# ex2) range(5) [0,1,2,3,4]"
   ]
  },
  {
   "cell_type": "markdown",
   "metadata": {},
   "source": [
    "## While문"
   ]
  },
  {
   "cell_type": "code",
   "execution_count": 21,
   "metadata": {},
   "outputs": [],
   "source": [
    "# while True: < 무한 반복이며 break를 만날 때 종료됨\n",
    "\n",
    "# while 조건연산자:\n",
    "# i = 0\n",
    "# while i < 5:   카운트를 올리며 그 수만큼 반복함.\n",
    "#    i += 1"
   ]
  },
  {
   "cell_type": "markdown",
   "metadata": {},
   "source": [
    "# 자료형"
   ]
  },
  {
   "cell_type": "code",
   "execution_count": 22,
   "metadata": {},
   "outputs": [],
   "source": [
    "#       자료형 종류\n",
    "# 리스트(list) []\n",
    "# 튜플(tuple) ()\n",
    "# 딕셔너리(dictionary) {키:값}\n",
    "# 세트(set) {}\n",
    "# 변수. > 변수 뒤에 .을 붙이면 메소드를 쓸 수 있는 목록이 나옴\n",
    "\n",
    "#       시퀀스 자료형\n",
    "# 각각의 요소들이 연속적으로 이어진 자료형( 인덱스 0 ,1 ,2)\n",
    "# 시퀀스에는 딕셔너리가 포함이 안됨. 이유는 인덱스가 아닌 키값순서 이기 때문.\n",
    "# 공통기능 시퀀스 객체 안에 특정 값이 있는지 확인 하는법 in 연산자.\n",
    "# 시퀀스 객체에 특정한 값이 있으면 True로 반환 \n"
   ]
  },
  {
   "cell_type": "markdown",
   "metadata": {},
   "source": [
    "## 리스트 내장함수"
   ]
  },
  {
   "cell_type": "code",
   "execution_count": 23,
   "metadata": {},
   "outputs": [],
   "source": [
    "# len(리스트명) 리스트 원소 갯수 반환 , range랑 잘 쓰임\n",
    "# max(리스트명) 젤 큰것\n",
    "# min(리스트명) 젤 작은 것\n",
    "# sum(리스트명) 다 더한것"
   ]
  },
  {
   "cell_type": "markdown",
   "metadata": {},
   "source": [
    "## 리스트 조작함수"
   ]
  },
  {
   "cell_type": "markdown",
   "metadata": {},
   "source": [
    "### 요소삽입"
   ]
  },
  {
   "cell_type": "code",
   "execution_count": 24,
   "metadata": {},
   "outputs": [],
   "source": [
    "# append는 list.append(요소)맨 끝에 추가됨 ( default 인덱스 번호순 )\n",
    "# insert는 list.insert(위치, 요소)로 위치에 추가가 가능함\n"
   ]
  },
  {
   "cell_type": "markdown",
   "metadata": {},
   "source": [
    "### 요소삭제"
   ]
  },
  {
   "cell_type": "code",
   "execution_count": 25,
   "metadata": {},
   "outputs": [],
   "source": [
    "# list.remove(요소)\n",
    "# list.pop(위치)"
   ]
  },
  {
   "cell_type": "markdown",
   "metadata": {},
   "source": [
    "### 요소정렬"
   ]
  },
  {
   "cell_type": "code",
   "execution_count": 26,
   "metadata": {},
   "outputs": [],
   "source": [
    "# list.sort() (defalt값인) 오름차순으로 정렬\n",
    "# list.sort(reverse=True)  내림차순으로 정렬\n",
    "# list.reverse() 반대로 뒤집음."
   ]
  },
  {
   "cell_type": "markdown",
   "metadata": {},
   "source": [
    "### 요소카운트"
   ]
  },
  {
   "cell_type": "code",
   "execution_count": 27,
   "metadata": {},
   "outputs": [],
   "source": [
    "# list.len()\n",
    "# list.count()\n",
    "# list.max()\n",
    "# list.sum()"
   ]
  },
  {
   "cell_type": "markdown",
   "metadata": {},
   "source": [
    "## 딕셔너리"
   ]
  },
  {
   "cell_type": "code",
   "execution_count": 28,
   "metadata": {},
   "outputs": [],
   "source": [
    "#   딕셔너리 선언\n",
    "# dic = {'키1':값1 , '키2':값1}  >> 키 값은 문자열 , 숫자 , 불 등으로 중복 선언가능\n",
    "\n",
    "#   value 값 찾기\n",
    "# dic['키1'] : 값1 >> 찾거나 변경은 선언과 다르게 항상 대괄호라는걸 명심\n",
    "\n",
    "#   value 값 바꾸기\n",
    "# dic['키1'] = r 로 벨류 값을 변경 가능.\n",
    "\n",
    "#   value 값 추가\n",
    "# dic['키n'] = '다'\n",
    "\n",
    " # 키 이름 변경\n",
    "# dic = {1:\"one\",2:{3:\"three\",4:\"four\"}}\n",
    "# dic[2][5] = dic[2].pop(4)\n",
    "\n",
    "#   list 형태로 바꿈\n",
    "# list(dic.keys()) \n",
    "\n",
    "# for key, value in n.items():  변수를 여러개 설정가능\n",
    "#     print( key , value )  "
   ]
  },
  {
   "cell_type": "markdown",
   "metadata": {},
   "source": [
    "### 딕셔너리 메소드"
   ]
  },
  {
   "cell_type": "code",
   "execution_count": 29,
   "metadata": {},
   "outputs": [
    {
     "name": "stdout",
     "output_type": "stream",
     "text": [
      "dict_keys(['가', '나'])\n",
      "dict_values([3, 4])\n",
      "{'가': 3, '나': 4}\n"
     ]
    }
   ],
   "source": [
    "# dic.get() : 요소를 추출\n",
    "# dic.keys()   : 키값만 추출\n",
    "# dic.values() : 밸류만 추출\n",
    "# dic.items()  : 키,값 다 불러옴\n",
    "# dic.pop(위치)는 위치에 있는걸 삭제하고 요소를 정렬함 이때 지정을 안할경우 맨 끝에 있는것이 해당됨\n",
    "# dic.popitem() 도 맨 끝에 있는것이 해당됨\n",
    "# del(딕셔너리[key]) : 항목 삭제\n",
    "\n",
    "#사용예\n",
    "dic = {'가':3,'나':4}\n",
    "print(dic.keys()) # 키만 불러옴\n",
    "print(dic.values())\n",
    "print(dic)"
   ]
  },
  {
   "cell_type": "markdown",
   "metadata": {},
   "source": [
    "## 튜플"
   ]
  },
  {
   "cell_type": "code",
   "execution_count": 30,
   "metadata": {},
   "outputs": [],
   "source": [
    "# 리스트처럼 하나라 묶어 사용하는 자료의 집함\n",
    "# 인덱싱 슬라이싱 가능, 초기화 후 편집 불가능.\n",
    "# (소괄호 사이에 각각의 요소를 컴마로 구분 )소괄호 없이 콤마 찍고 값만 나열해도 가능 \n",
    "# 사용 예( 90, 70, ‘python’, [ 1, 2, 3 ], 3.14 )\n",
    "# 요소 하나의 튜플을 만드는 경우 값 뒤에 콤마를 넣어 튜플임을 나타냄\n",
    "# 예 : data_tuple01 = (3,) 또는 data_tuple01 = 3,\n",
    "# return 타입은 tuple의 형태로 반환한다."
   ]
  },
  {
   "cell_type": "code",
   "execution_count": 31,
   "metadata": {},
   "outputs": [
    {
     "data": {
      "text/plain": [
       "(0, 1, 2, 3, 4, 5)"
      ]
     },
     "execution_count": 31,
     "metadata": {},
     "output_type": "execute_result"
    }
   ],
   "source": [
    "tuple(range(6))"
   ]
  },
  {
   "cell_type": "code",
   "execution_count": 32,
   "metadata": {},
   "outputs": [
    {
     "name": "stdout",
     "output_type": "stream",
     "text": [
      "ac bc cc\n"
     ]
    }
   ],
   "source": [
    "temp = ( 'ac', 'bc' ,'cc') # 튜플로 적으면 ac = a , bc = b , cc = c\n",
    "a , b , c= temp # 로 대응됨\n",
    "print(a, b, c)"
   ]
  },
  {
   "cell_type": "markdown",
   "metadata": {},
   "source": [
    "# 함수"
   ]
  },
  {
   "cell_type": "code",
   "execution_count": 33,
   "metadata": {},
   "outputs": [
    {
     "name": "stdout",
     "output_type": "stream",
     "text": [
      "69\n"
     ]
    }
   ],
   "source": [
    "d = [ 3, 9 , 5 , 6]\n",
    "\n",
    "def plus(x,*y):\n",
    "    out = 0\n",
    "    for i in range(x):\n",
    "        for e in y:\n",
    "            out += e\n",
    "    return out \n",
    "\n",
    "out = plus(3, *d)\n",
    "print(out)"
   ]
  },
  {
   "cell_type": "markdown",
   "metadata": {},
   "source": [
    "## 사용자 정의 함수"
   ]
  },
  {
   "cell_type": "code",
   "execution_count": 34,
   "metadata": {},
   "outputs": [],
   "source": [
    "# def 함수이름(매개변수): < 현재 매개변수를 하나만 받을 수 있음 \n",
    "    # 수행할 명령어\n",
    "    # return ( 반환함 ) < 여기서 return 반1,반2,반3 .. 여러개로 반환 가능\n",
    "\n",
    "# 함수이름('매개변수1') >> def 함수이름('매개변수1')\n",
    "# 함수이름('매개변수2') >> def 함수이름('매개변수2')\n",
    "\n",
    "# 쉽게 설명하면 식을 미리 만들어놓고 호출해서 씀.\n"
   ]
  },
  {
   "cell_type": "markdown",
   "metadata": {},
   "source": [
    "## 여러 함수 방식"
   ]
  },
  {
   "cell_type": "code",
   "execution_count": 35,
   "metadata": {},
   "outputs": [],
   "source": [
    "# def n(*args): << 애스터리스크* 표시가 있으면 튜플로 처리\n",
    "# 여러개를 받기위해 이런 구문을 씀. ( 가변인자 )\n",
    "\n",
    "# def any(iterable): << iterable의 요소 중 어느 하나라도 참이면 True를 돌려줌.\n",
    "# iterable은 반복 가능한 개체라는 뜻이며 괄호(iterable)이 비어 있으면ex)() False를 돌려줍니다. \n",
    "# def any(iter):\n",
    "#     for i in iter:\n",
    "#         if i:\n",
    "#             return True\n",
    "\n",
    "# map( function, iterable ) item들을 인자로 전달하여 실행\n",
    "# function parameter수 만큼 iterable이 전달되어야 함.\n",
    "# 결과는 map 타입\n",
    "\n",
    "# zip 함수\n",
    "# – zip(*iterable)\n",
    "# – 각 iterable의 동일 인덱스의 item들을 튜플 쌍으로 반환\n",
    "# – 결과는 zip 타입이며 iterable들의 길이는 달라도 무방\n",
    "\n",
    "# #enumerage 함수\n",
    "# – enumerate(iterable , [ start = 0 ])\n",
    "# – start는 시작 번호(생략 시 0)이며 결과는 enumerate 타입\n",
    "# – item들의 인덱스번호를 부여하여 (idx, value)의 튜플 쌍을 생성\n",
    "\n",
    "# 반복 가능한 객체에서 특정 조건에 맞는 요소만 가져옴\n",
    "# • filter에 지정한 함수의 반환값이 True일 때만 해당 요소를 가져옴\n",
    "# • filter(함수, 반복가능한객체 )\n",
    "\n",
    "# lambda 함수 lambda 매개변수 : 반환값 ex) lambda x : x + 10 list(map(lambda x : x + 10, [1,2,3,4,5]))  >> [11, 12, 13, 14, 15]) \n",
    "# sorted 함수 \n",
    "# – sorted( iterable, key = None, reverse = False )\n",
    "\n"
   ]
  },
  {
   "cell_type": "markdown",
   "metadata": {},
   "source": [
    "# 모듈"
   ]
  },
  {
   "cell_type": "code",
   "execution_count": 36,
   "metadata": {},
   "outputs": [],
   "source": [
    "# 파이썬 코드로 이루어진 파일 \n",
    "# 함수 ,변수 , 클래스 등이 들어감.\n",
    "# 기능적으로는 여러가지를 모아놓은 하나의 단위.\n",
    "# 직접 만들기도 하고 써드파티를 가져와 사용하기도 함.\n",
    "\n",
    "# 사용법 ) import 모듈명(파일명) \n",
    "\n",
    "# 모듈의 집함을 '패키지'라고 함.\n"
   ]
  },
  {
   "cell_type": "code",
   "execution_count": 37,
   "metadata": {},
   "outputs": [],
   "source": [
    "# import random\n",
    "# import 모듈명 as 이름(별명)\n",
    "# from 모듈명 import 이름(함수명or 클래스명)\n",
    "# from 모듈명 import 이름(함수명or 클래스명) as이름(별명)\n",
    "# from math import *  << 다 불러옴"
   ]
  },
  {
   "cell_type": "markdown",
   "metadata": {},
   "source": [
    "# 클래스"
   ]
  },
  {
   "cell_type": "code",
   "execution_count": 38,
   "metadata": {},
   "outputs": [],
   "source": [
    "# 객체지향의 가장 기본적인 개념\n",
    "# 객체를 표현하기 위한 문법\n",
    "\n",
    "#       선언 형식\n",
    "# class 이름:\n",
    "#     def_init_(self, 초기값):\n",
    "#         멤버 초기화\n",
    "#     def\n",
    "#     메소드 정의"
   ]
  }
 ],
 "metadata": {
  "kernelspec": {
   "display_name": "Python 3",
   "language": "python",
   "name": "python3"
  },
  "language_info": {
   "codemirror_mode": {
    "name": "ipython",
    "version": 3
   },
   "file_extension": ".py",
   "mimetype": "text/x-python",
   "name": "python",
   "nbconvert_exporter": "python",
   "pygments_lexer": "ipython3",
   "version": "3.9.13"
  }
 },
 "nbformat": 4,
 "nbformat_minor": 2
}
