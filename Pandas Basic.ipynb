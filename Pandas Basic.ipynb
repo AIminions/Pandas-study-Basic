{
 "cells": [
  {
   "cell_type": "markdown",
   "metadata": {},
   "source": [
    "# Pandas"
   ]
  },
  {
   "cell_type": "code",
   "execution_count": 4,
   "metadata": {},
   "outputs": [
    {
     "ename": "SyntaxError",
     "evalue": "unexpected character after line continuation character (1678556882.py, line 3)",
     "output_type": "error",
     "traceback": [
      "\u001b[1;36m  Cell \u001b[1;32mIn[4], line 3\u001b[1;36m\u001b[0m\n\u001b[1;33m    DF = pd.read_csv( '파일명'.format(i), \\ encoding=‘cp949’, parse_date=[‘컬럼’] )\u001b[0m\n\u001b[1;37m                                        ^\u001b[0m\n\u001b[1;31mSyntaxError\u001b[0m\u001b[1;31m:\u001b[0m unexpected character after line continuation character\n"
     ]
    }
   ],
   "source": [
    "import pandas as pd\n",
    "\n",
    "DF = pd.read_csv( '파일명'.format(i), \\ encoding=‘cp949’, parse_date=[‘컬럼’] )\n",
    "\n",
    "DF = pd.DataFrame({'D':[1,2,3,4], 'e':[1,2,3,5], 'f':[1,2,3,4]}) #DF는 Dataframe의 이름 DF라는 변수에 데이터프레임을 대입\n",
    "\n",
    "DF\n",
    "\n",
    "# 1차원은 시리즈\n",
    "# 2차원은 테이블\n",
    "# [ ] = 는 항상 테이블\n",
    "# JSON 파일은 딕셔너리 스타일로, 키-값 으로 이루어져있음 따라서 파이썬에서 이용하기 쉬움.   "
   ]
  },
  {
   "cell_type": "markdown",
   "metadata": {},
   "source": [
    "## 명령어"
   ]
  },
  {
   "cell_type": "markdown",
   "metadata": {},
   "source": [
    "### 추출"
   ]
  },
  {
   "cell_type": "code",
   "execution_count": null,
   "metadata": {},
   "outputs": [],
   "source": [
    "axis = 0 #가로 선택\n",
    "axis = 1 #세로 선택\n",
    "# ex) ('컬럼', axis=0)\n",
    "axis='index' #수직 방향 (인덱스방향) \n",
    "axis='Columns' #수평 방향 (컬럼방향)\n",
    "pd.read_csv( '파일루트'.format(i), \\ encoding=‘cp949’, parse_date=[‘컬럼’] )\n",
    "pd.read_excel( '파일루트' )\n",
    "\n",
    ".mean() #평균값\n",
    ".min() #최소\n",
    ".max #최대\n",
    ".median() #중간\n",
    "\n",
    ".head() # 앞에서 5개 가져옴\n",
    ".tail() # 뒤에서 5개\n",
    ".nlargest(보여줄 행 개수,'컬럼') # 가장 큰 값\n",
    ".shape[0] # 프레임 모양 확인, 0 = 행수확인 , 1 = 열수확인\n",
    ".index # 인덱스 확인\n",
    ".info() # 데이터 프레임의 정보확인\n",
    ".sample() # 샘플 보여줌 괄호는 보여줄 개수\n",
    ".dtypes #데이터 타입\n",
    ".isnull() # 결측치 확인 True or False 로 나타냄. .notnull() 로는 True로 표시됨\n",
    ".value_counts() # 각 값의 개수를 카운트 함.\n",
    ".unique() # 중복을 제거한 값\n",
    ".describe() # 요약 통계량\n",
    "\n",
    ".isin(['컬럼']) #데이터 프레임에 컬럼이 들어있으면 True로 나타냄 아니면 False\n",
    ".loc[테이블명['컬럼명']] # 행과 열을 불러옴 (레이블을 사용할때)\n",
    ".iloc[0:3,0:2] # 행과 열을 불러옴 (인덱싱을 사용할 때) iloc[행,열] 정수에서는 미만이지만 문자에서는 이상이다.\n",
    ".idxmin() # 백분율이 가장 낮은 것\n",
    ".at[행라벨,열라벨] # 데이터프레임에서 행과 열을 지정한 특정 셀은 at 을 사용하여 인덱싱\n",
    "#                   존재하지 않는 라벨을 사용하면 KeyError 발생\n",
    "\n",
    "DF[['컬럼1','컬럼2','컬럼3']] # 특정 열만 불러옴\n",
    "DF[0:3] # 슬라이싱으로 행을 불러옴\n",
    "DF[(DF['나이'] > 비교값) Boolean (DF['나이'] < 비교값)] # 조건에 맞는 행을 찾음"
   ]
  },
  {
   "cell_type": "markdown",
   "metadata": {},
   "source": [
    "### 정렬"
   ]
  },
  {
   "cell_type": "code",
   "execution_count": null,
   "metadata": {},
   "outputs": [],
   "source": [
    ".sort_values(by='컬럼', ascending=False) # 내림차순 정렬\n",
    ".sort_values('컬럼') # 오름차순 정렬\n",
    ".tolist() # 리스트화"
   ]
  },
  {
   "cell_type": "markdown",
   "metadata": {},
   "source": [
    "### 변환"
   ]
  },
  {
   "cell_type": "code",
   "execution_count": null,
   "metadata": {},
   "outputs": [],
   "source": [
    "#  변수에 저장안하면 원본에는 적용 안됨 \n",
    "(,inplace=True) # 원본에 적용\n",
    "(, ignore_index=True) #인덱스를 리셋 후 0부터 시작하게 수정\n",
    "\n",
    ".sum() # 총합\n",
    ".drop(index=[0]) # 열 삭제\n",
    ".drop(columns=['컬럼명']) # 행 삭제 ex ) bikes.drop( [ 삭제할 컬럼명 ], axis=‘columns’, inplace=True )\n",
    ".dropna(axis=1) # 결측치 제거 \n",
    ".fillna(0) # 결측치 0으로 채우기\n",
    ".fillna(method='ffill') # 결측치 앞의 값으로 채우기\n",
    ".fillna(method='bfill') # 결측치 뒤의 값으로 채우기\n",
    ".replace(['기존값1','바꿀값1'],['기존값2','바꿀값2']) # 값 바꾸기 하나만 바꿀경우 [] 없엠.\n",
    ".columns = ['바꿀값1,바꿀값2,바꿀값3,바꿀값4'] # 열 이름 변경\n",
    ".rename(columns={'성명':'이름','신장':'키'}) # 열 이름 변경  인플추가하면 아예 값 변경 \n",
    ".index = ['바꿀값1,바꿀값2,바꿀값3,바꿀값4'] # 인덱스 변경, 인덱스 개수가 같아야함\n",
    ".reset_index() # 인덱스를 컬럼화 함.\n",
    ".apply(lambda n:n * 0.001) # DataFrame의 칼럼에 복잡한 연산을 vectorizing으로 람다연산 적용가능\n",
    ".diff() # ex) 5컬럼부터 0컬럼까지 차이값을 차례대로 냄. \n",
    "#               5-4 4-3 3-2 2-1 1-0(NaN)으로 나타냄\n",
    ".groupby('그루핑할 컬럼')['그룹지을 컬럼'] # 그룹화\n",
    ".iterrows() # (index,series) 쌍으로 순회할수있게 해주는 이터레이터를 반환 데이터프레임 행별처리 용이\n",
    "# for index, row in DF.iterrows():\n",
    "#     print(index, row)\n",
    "#     print()\n",
    "\n",
    "\n",
    "\n",
    "\n",
    "\n",
    "#pd.\n",
    "pd.concat([테이블, 매핑할 테이블]) # 병합함. 응용) pd.concat( bikes_temp, axis=‘index’, ignore_index=True ) 수직(인덱스)방향\n",
    "                                              # pd.concat( bikes_temp, axis=‘Columns’, ignore_index=True ) 수평(컬럼)방향\n",
    "pd.merge((데이터프레임), 데이터프레임 or 시리즈명, on='기준이 되는 컬럼명(키값)') # 병합함 \n",
    "#       ( 데이터프레임1, 데이터프레임2, left_on=‘df1_컬럼명’, right_on=‘df2_컬럼명’ )\n",
    "\n",
    "pd.()\n",
    "pd.DataFrame() # 비어있는 데이타프레임을 만듦\n",
    "pd.to_datetime(숫자,format = '%Y%m%d') # 날짜데이터로 바꿈 숫자칸에는 2020*10000 + dd.month*100 + dd.day*1 이런식으로 넣으면됨\n",
    "pd.isnull(data) # 추출한 행의 백분율 percentage 값이 아무것도 없이 비어 있는 누락값인지 확인\n",
    "pd.options.display.float_format = '{:.0f}'.format\n",
    "pd.set_option('display.max_rows',None)\n",
    "\n",
    "                            \n",
    "DF['컬럼'].fillna(DF['컬럼'].mean()) # 결측치 평균값으로 채우기\n",
    "DF['컬럼'] = [90,100,46,79,89,78,65]  # 새로운 열 추가\n",
    "DF['컬럼'] + 10 # 기존 열에 연산\n",
    "DF2 = DF.copy() # 복사본 만들기\n",
    "\n"
   ]
  },
  {
   "cell_type": "markdown",
   "metadata": {},
   "source": [
    "## Matplotlib \n",
    "#### (Pyplot)"
   ]
  },
  {
   "cell_type": "code",
   "execution_count": null,
   "metadata": {},
   "outputs": [],
   "source": [
    "#차트 시각화 라이브러리\n",
    "\n",
    ".pivot_table(index='컬럼명', columns='컬럼명', values='컬럼명', aggfunc='함수' ) # 데이터 재구조화 , 컬럼은 여러개 설정 가능 함수는 sum(),mean() 등등\n",
    "# DF.pivot_table(\\\n",
    "#         index = '컬럼명'\n",
    "#         value = '컬럼명'\n",
    "#         )\n",
    "\n",
    "(figsize=('가로길이','세로길이')\n",
    " \n",
    ".figure(figsize=('가로길이','세로길이')) # 그래프 사이즈 조절 \n",
    "\n",
    ".plot() # 그래프로 표시함.\n",
    "    kind = 'line' # 꺾은선 그래프\n",
    "           'Bar'  # 막대 그래프\n",
    "    title = ''# 그래프의 제목      \n",
    "    figsize = '' # 그래프의 크기\n",
    "    rot = '' #x축 인덱스 글자 회전 ( 숫자 )"
   ]
  },
  {
   "cell_type": "markdown",
   "metadata": {},
   "source": [
    "## Seaborn  "
   ]
  },
  {
   "cell_type": "code",
   "execution_count": null,
   "metadata": {},
   "outputs": [],
   "source": [
    "#통계 시각화 라이브러리 \n",
    "(annot=True) : # 색깔칸에 집계 수량표시 \n",
    "(fmt='자료형') : # d인경우 정수로 나타낸다는 표시\n",
    "\n",
    "Sb.countplot( data=DF, x='X축으로 표시 할 컬럼명', hue='집계 컬럼명' ) : #count 집계 후 막대 그래프로 표시함.\n",
    "Sb.heatmap() : #몰리는 쪽 색깔이 진해지도록 2차원적으로 자료를 시각화함\n",
    "Sb.boxplot() : #주식 그래프 박스모양으로 시각화함.\n",
    "\n",
    "\n",
    "\n",
    "\n"
   ]
  },
  {
   "cell_type": "markdown",
   "metadata": {},
   "source": [
    "## Folium"
   ]
  },
  {
   "cell_type": "code",
   "execution_count": 3,
   "metadata": {},
   "outputs": [],
   "source": [
    "#지도 시각화 라이브러리\n",
    "\n",
    "위도경도리스트변수 = [ lat,lon ] \n",
    ".Map( location= '위도와 경도가 들어간 변수', zoom_start=배율 ) \n",
    "\n",
    ".choropleth (  # 지도에 데이터프레임 데이터분포를 색으로 표현해줌 \n",
    "    geo_data = 지도, \n",
    "    data = '지도에 표시 할 데이터프레임',\n",
    "    columns = [ '컬럼1', '컬럼2' ] , \n",
    "    fill_color = 'YlGnBu' , # 표현 할 색\n",
    "    key_on = 'Json 키값' ).add_to(map)\n",
    "\n",
    ".Marker( location=[위도, 경도], popup='이름', icon = folium.Icon(color='',icon='')).add_to(map) # 지도에서 특정 위치를 아이콘으로 표시\n",
    "    \n",
    "\n",
    "with open('json 데이타주소', 'r', encoding='utf-8') as f: \n",
    "    지도 = json.load(f)\n",
    "\n",
    "\n",
    "\n"
   ]
  }
 ],
 "metadata": {
  "kernelspec": {
   "display_name": "Python 3",
   "language": "python",
   "name": "python3"
  },
  "language_info": {
   "codemirror_mode": {
    "name": "ipython",
    "version": 3
   },
   "file_extension": ".py",
   "mimetype": "text/x-python",
   "name": "python",
   "nbconvert_exporter": "python",
   "pygments_lexer": "ipython3",
   "version": "3.9.13"
  }
 },
 "nbformat": 4,
 "nbformat_minor": 2
}
